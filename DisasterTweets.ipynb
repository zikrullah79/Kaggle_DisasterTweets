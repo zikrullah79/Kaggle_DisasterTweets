{
 "cells": [
  {
   "cell_type": "code",
   "execution_count": 20,
   "id": "8c605609",
   "metadata": {},
   "outputs": [],
   "source": [
    "import pandas as pd\n",
    "import numpy as np\n",
    "import nltk\n",
    "from sklearn.metrics import classification_report\n",
    "from sklearn.metrics import confusion_matrix\n",
    "from sklearn.metrics import accuracy_score\n",
    "from sklearn import preprocessing\n",
    "from sklearn.feature_extraction.text import TfidfVectorizer\n",
    "from sklearn.feature_extraction.text import CountVectorizer\n",
    "from sklearn.feature_extraction.text import TfidfTransformer\n",
    "from nltk import word_tokenize\n",
    "from nltk.stem import WordNetLemmatizer\n",
    "from nltk.corpus import stopwords\n",
    "from nltk import everygrams\n",
    "import matplotlib.pyplot as plt\n",
    "from sklearn.model_selection import train_test_split\n",
    "from nltk.stem import PorterStemmer\n",
    "from sklearn.svm import SVC\n",
    "from sklearn.model_selection import GridSearchCV\n",
    "  \n",
    "ps = PorterStemmer()\n",
    "stop = stopwords.words('english')\n",
    "tokenizer = nltk.tokenize.WhitespaceTokenizer()\n",
    "lemmatizer = nltk.stem.WordNetLemmatizer()"
   ]
  },
  {
   "cell_type": "code",
   "execution_count": 5,
   "id": "bbf72fbf",
   "metadata": {},
   "outputs": [],
   "source": [
    "data_train = pd.read_csv(\"train.csv\",encoding='utf-8')\n",
    "data_test = pd.read_csv(\"test.csv\",encoding='utf-8')"
   ]
  },
  {
   "cell_type": "code",
   "execution_count": 6,
   "id": "cbf91b47",
   "metadata": {},
   "outputs": [],
   "source": [
    "data_train = data_train.drop(['keyword','location'],axis=1)\n",
    "data_test = data_test.drop(['keyword','location'],axis=1)"
   ]
  },
  {
   "cell_type": "code",
   "execution_count": 7,
   "id": "959e98e2",
   "metadata": {},
   "outputs": [
    {
     "name": "stderr",
     "output_type": "stream",
     "text": [
      "<ipython-input-7-5cffb75ec9ad>:2: FutureWarning: The default value of regex will change from True to False in a future version.\n",
      "  data_train['text'] = data_train['text'].str.replace(\"[^\\w\\s]\",\" \")\n",
      "<ipython-input-7-5cffb75ec9ad>:3: FutureWarning: The default value of regex will change from True to False in a future version.\n",
      "  data_train['text'] = data_train['text'].str.replace(\"[\\d+]\",\" \")\n",
      "<ipython-input-7-5cffb75ec9ad>:5: FutureWarning: The default value of regex will change from True to False in a future version. In addition, single character regular expressions will*not* be treated as literal strings when regex=True.\n",
      "  data_train['text'] = data_train['text'].str.replace(i,\" \")\n",
      "<ipython-input-7-5cffb75ec9ad>:14: FutureWarning: The default value of regex will change from True to False in a future version.\n",
      "  data_test['text'] = data_test['text'].str.replace(\"[^\\w\\s]\",\" \")\n",
      "<ipython-input-7-5cffb75ec9ad>:15: FutureWarning: The default value of regex will change from True to False in a future version.\n",
      "  data_test['text'] = data_test['text'].str.replace(\"[\\d+]\",\" \")\n",
      "<ipython-input-7-5cffb75ec9ad>:17: FutureWarning: The default value of regex will change from True to False in a future version. In addition, single character regular expressions will*not* be treated as literal strings when regex=True.\n",
      "  data_test['text'] = data_test['text'].str.replace(i,\" \")\n"
     ]
    }
   ],
   "source": [
    "data_train['text'] = data_train['text'].str.lower()\n",
    "data_train['text'] = data_train['text'].str.replace(\"[^\\w\\s]\",\" \")\n",
    "data_train['text'] = data_train['text'].str.replace(\"[\\d+]\",\" \")\n",
    "for i in list(\"!@#$%^&*()[]{};:,./<>?\\|`~-=_+\"):\n",
    "    data_train['text'] = data_train['text'].str.replace(i,\" \")    \n",
    "    \n",
    "data_train['text'] = data_train.apply(lambda row: tokenizer.tokenize(row['text']), axis=1)\n",
    "data_train[\"text\"] = data_train['text'].apply(lambda row : [i for i in row if i not in stop] )\n",
    "data_train[\"text\"] = data_train['text'].apply(lambda row : [lemmatizer.lemmatize(i) for i in row ] )\n",
    "data_train[\"text\"] = data_train['text'].apply(lambda row : [ps.stem(i) for i in row ] )\n",
    "data_train[\"text\"] = data_train['text'].apply(lambda row : \" \".join(row))\n",
    "\n",
    "data_test['text'] = data_test['text'].str.lower()\n",
    "data_test['text'] = data_test['text'].str.replace(\"[^\\w\\s]\",\" \")\n",
    "data_test['text'] = data_test['text'].str.replace(\"[\\d+]\",\" \")\n",
    "for i in list(\"!@#$%^&*()[]{};:,./<>?\\|`~-=_+\"):\n",
    "    data_test['text'] = data_test['text'].str.replace(i,\" \")    \n",
    "    \n",
    "data_test['text'] = data_test.apply(lambda row: tokenizer.tokenize(row['text']), axis=1)\n",
    "data_test[\"text\"] = data_test['text'].apply(lambda row : [i for i in row if i not in stop] )\n",
    "data_test[\"text\"] = data_test['text'].apply(lambda row : [lemmatizer.lemmatize(i) for i in row ] )\n",
    "data_test[\"text\"] = data_test['text'].apply(lambda row : [ps.stem(i) for i in row ] )\n",
    "data_test[\"text\"] = data_test['text'].apply(lambda row : \" \".join(row))"
   ]
  },
  {
   "cell_type": "code",
   "execution_count": 8,
   "id": "7e3b5713",
   "metadata": {},
   "outputs": [],
   "source": [
    "x_train,x_validation,y_train,y_validation = train_test_split(data_train['text'],data_train['target'],test_size=0.3)"
   ]
  },
  {
   "cell_type": "code",
   "execution_count": 147,
   "id": "b74dcf54",
   "metadata": {},
   "outputs": [],
   "source": [
    "from sklearn.pipeline import Pipeline\n",
    "def accuracy_result(used_model,n_gram_range = (1,3)):\n",
    "    print(\"({}-{})\".format(n_gram_range[0],n_gram_range[1]))\n",
    "    res = []\n",
    "    vectorizer = TfidfVectorizer(ngram_range=n_gram_range)\n",
    "    \n",
    "    vectorizer.fit(x_train)\n",
    "    total_features = len(vectorizer.get_feature_names())\n",
    "    max_f = np.arange(0.1,1.01,0.1)\n",
    "    \n",
    "    for n in max_f:\n",
    "#         vectorizer.set_params(ngram_range=n_gram_range,max_features = int(n * total_features))\n",
    "        checker_pipeline = Pipeline([\n",
    "            ('vectorizer', TfidfVectorizer(ngram_range=n_gram_range,max_features = int(n * total_features))),\n",
    "            ('classifier', used_model)\n",
    "        ])\n",
    "        model = checker_pipeline.fit(x_train,y_train)\n",
    "        \n",
    "        Y_pred = model.predict(x_validation)\n",
    "        print(accuracy_score(y_validation, Y_pred))\n",
    "        res.append((n*100,int(n * total_features),accuracy_score(y_validation, Y_pred)))\n",
    "    return(res)\n",
    "def unitrigram_accuracy_result(used_model):\n",
    "    print(\"(1,3)\")\n",
    "    res = []\n",
    "    check_vectorizer = CountVectorizer(ngram_range=(1,3)).fit(x_train)\n",
    "    check2_vectorizer = CountVectorizer(ngram_range=(2,2)).fit(x_train)\n",
    "\n",
    "    total_features = len(check_vectorizer.get_feature_names()) - len(check2_vectorizer.get_feature_names())\n",
    "    max_f = np.arange(0.1,1.01,0.1)\n",
    "    \n",
    "    for n in max_f:\n",
    "        tfidf_vectorizer = CountVectorizer(ngram_range=(1,3),max_features = int(n * total_features))\n",
    "    #     tfidf_vectorizer_2 = CountVectorizer(ngram_range=(2,2))\n",
    "\n",
    "        a = tfidf_vectorizer.fit_transform(x_train)\n",
    "        b =  a.todense().tolist()\n",
    "        c = pd.DataFrame(b,columns=tfidf_vectorizer.get_feature_names())\n",
    "#         print(len(c.columns))\n",
    "        selected_train_column = [sel_c for sel_c in c.columns if len(sel_c.split())!=2]\n",
    "        c = c[selected_train_column]\n",
    "#         print(len(c.columns))\n",
    "\n",
    "        a2 = tfidf_vectorizer.transform(x_validation)\n",
    "        b2 =  a2.todense().tolist()\n",
    "        c2 = pd.DataFrame(b2,columns=tfidf_vectorizer.get_feature_names())\n",
    "#         print(len(c2.columns))\n",
    "        selected_validation_column = [sel_c for sel_c in c2.columns if len(sel_c.split())!=2]\n",
    "        c2 = c2[selected_validation_column]\n",
    "#         print(len(c2.columns))\n",
    "\n",
    "        tfidf_transformer=TfidfTransformer(smooth_idf=True,use_idf=True) \n",
    "        m_train = tfidf_transformer.fit_transform(c)\n",
    "        v_train =  m_train.todense().tolist()\n",
    "\n",
    "        m_validation = tfidf_transformer.transform(c2)\n",
    "        v_validation =  m_validation.todense().tolist()\n",
    "        model = used_model.fit(v_train,y_train)\n",
    "        \n",
    "        Y_pred = model.predict(v_validation)\n",
    "        print(accuracy_score(y_validation, Y_pred))\n",
    "        res.append((n*100,int(n * total_features),accuracy_score(y_validation, Y_pred)))\n",
    "    return(res)\n"
   ]
  },
  {
   "cell_type": "code",
   "execution_count": 148,
   "id": "e5b12c0c",
   "metadata": {},
   "outputs": [
    {
     "name": "stdout",
     "output_type": "stream",
     "text": [
      "(1-3)\n",
      "0.8069176882661997\n",
      "0.8086690017513135\n",
      "0.8012259194395797\n",
      "0.7999124343257443\n",
      "0.7942206654991243\n",
      "0.792907180385289\n",
      "0.7898423817863398\n",
      "0.7867775831873906\n",
      "0.781523642732049\n",
      "0.7788966725043783\n",
      "(1-2)\n",
      "0.8060420315236427\n",
      "0.8051663747810858\n",
      "0.803415061295972\n",
      "0.7999124343257443\n",
      "0.7990367775831874\n",
      "0.7964098073555166\n",
      "0.7968476357267951\n",
      "0.8003502626970228\n",
      "0.7990367775831874\n",
      "0.7950963222416813\n",
      "(1-1)\n",
      "0.7955341506129597\n",
      "0.8029772329246935\n",
      "0.8064798598949212\n",
      "0.8047285464098074\n",
      "0.8051663747810858\n",
      "0.8016637478108581\n",
      "0.8038528896672504\n",
      "0.8021015761821366\n",
      "0.803415061295972\n",
      "0.803415061295972\n",
      "(1,3)\n",
      "0.8051663747810858\n",
      "0.8060420315236427\n",
      "0.8056042031523643\n",
      "0.8060420315236427\n",
      "0.803415061295972\n",
      "0.7999124343257443\n",
      "0.8025394045534151\n",
      "0.7981611208406305\n",
      "0.7972854640980735\n",
      "0.7994746059544658\n",
      "(2-3)\n",
      "0.7469352014010507\n",
      "0.75\n",
      "0.7473730297723292\n",
      "0.7451838879159369\n",
      "0.7517513134851138\n",
      "0.7057793345008757\n",
      "0.7027145359019265\n",
      "0.7044658493870403\n",
      "0.7031523642732049\n",
      "0.7005253940455342\n",
      "(3-3)\n",
      "0.702276707530648\n",
      "0.7119089316987741\n",
      "0.7114711033274956\n",
      "0.7171628721541156\n",
      "0.7123467600700525\n",
      "0.7101576182136602\n",
      "0.707968476357268\n",
      "0.7097197898423818\n",
      "0.7114711033274956\n",
      "0.7084063047285464\n",
      "(2-2)\n",
      "0.7482486865148862\n",
      "0.7521891418563923\n",
      "0.7478108581436077\n",
      "0.7513134851138353\n",
      "0.7193520140105079\n",
      "0.7114711033274956\n",
      "0.7049036777583187\n",
      "0.7005253940455342\n",
      "0.7027145359019265\n",
      "0.7000875656742557\n"
     ]
    }
   ],
   "source": [
    "\n",
    "svm = SVC()\n",
    "\n",
    "svm_plot_ubtgt = accuracy_result(svm,(1,3))\n",
    "svm_plot_ubgt = accuracy_result(svm,(1,2))\n",
    "svm_plot_ugt = accuracy_result(svm,(1,1))\n",
    "svm_plot_utgt = unitrigram_accuracy_result(svm)\n",
    "svm_plot_btgt = accuracy_result(svm,(2,3))\n",
    "svm_plot_tgt = accuracy_result(svm,(3,3))\n",
    "svm_plot_bgt = accuracy_result(svm,(2,2))"
   ]
  },
  {
   "cell_type": "code",
   "execution_count": 149,
   "id": "bd12a6cc",
   "metadata": {},
   "outputs": [
    {
     "data": {
      "text/plain": [
       "<matplotlib.legend.Legend at 0x2ac286c34f0>"
      ]
     },
     "execution_count": 149,
     "metadata": {},
     "output_type": "execute_result"
    },
    {
     "data": {
      "image/png": "[encoded data removed]",
      "text/plain": [
       "<Figure size 576x432 with 1 Axes>"
      ]
     },
     "metadata": {
      "needs_background": "light"
     },
     "output_type": "display_data"
    }
   ],
   "source": [
    "svm_nfeatures_plot_ugt = pd.DataFrame(svm_plot_ugt,columns=['data_percentage','nfeatures','validation_accuracy'])\n",
    "svm_nfeatures_plot_bgt = pd.DataFrame(svm_plot_bgt,columns=['data_percentage','nfeatures','validation_accuracy'])\n",
    "svm_nfeatures_plot_tgt = pd.DataFrame(svm_plot_tgt,columns=['data_percentage','nfeatures','validation_accuracy'])\n",
    "svm_nfeatures_plot_ubtgt = pd.DataFrame(svm_plot_ubtgt,columns=['data_percentage','nfeatures','validation_accuracy'])\n",
    "svm_nfeatures_plot_utgt = pd.DataFrame(svm_plot_utgt,columns=['data_percentage','nfeatures','validation_accuracy'])\n",
    "svm_nfeatures_plot_ubgt = pd.DataFrame(svm_plot_ubgt,columns=['data_percentage','nfeatures','validation_accuracy'])\n",
    "svm_nfeatures_plot_btgt = pd.DataFrame(svm_plot_btgt,columns=['data_percentage','nfeatures','validation_accuracy'])\n",
    "plt.figure(figsize=(8,6))\n",
    "plt.plot(svm_nfeatures_plot_ugt.data_percentage, svm_nfeatures_plot_ugt.validation_accuracy, label='unigram',color='gold')\n",
    "plt.plot(svm_nfeatures_plot_bgt.data_percentage, svm_nfeatures_plot_bgt.validation_accuracy, label='bigram',color='green')\n",
    "plt.plot(svm_nfeatures_plot_tgt.data_percentage, svm_nfeatures_plot_tgt.validation_accuracy, label='trigram',color='red')\n",
    "plt.plot(svm_nfeatures_plot_utgt.data_percentage, svm_nfeatures_plot_utgt.validation_accuracy, label='unitrigram',color='black')\n",
    "plt.plot(svm_nfeatures_plot_ubtgt.data_percentage, svm_nfeatures_plot_ubtgt.validation_accuracy, label='unibitrigram',color='cyan')\n",
    "plt.plot(svm_nfeatures_plot_ubgt.data_percentage, svm_nfeatures_plot_ubgt.validation_accuracy, label='unibigram',color='hotpink')\n",
    "plt.plot(svm_nfeatures_plot_btgt.data_percentage, svm_nfeatures_plot_btgt.validation_accuracy, label='bitrigram',color='slategray')\n",
    "plt.title(\"svm N-gram(1~3) test result : Accuracy\")\n",
    "plt.xlabel(\"Percentage of Features\")\n",
    "plt.ylabel(\"Validation set accuracy\")\n",
    "plt.legend()"
   ]
  },
  {
   "cell_type": "code",
   "execution_count": 150,
   "id": "49026100",
   "metadata": {},
   "outputs": [
    {
     "data": {
      "text/html": [
       "<div>\n",
       "<style scoped>\n",
       "    .dataframe tbody tr th:only-of-type {\n",
       "        vertical-align: middle;\n",
       "    }\n",
       "\n",
       "    .dataframe tbody tr th {\n",
       "        vertical-align: top;\n",
       "    }\n",
       "\n",
       "    .dataframe thead th {\n",
       "        text-align: right;\n",
       "    }\n",
       "</style>\n",
       "<table border=\"1\" class=\"dataframe\">\n",
       "  <thead>\n",
       "    <tr style=\"text-align: right;\">\n",
       "      <th></th>\n",
       "      <th>gram</th>\n",
       "      <th>accuracy</th>\n",
       "      <th>Feature Percentage</th>\n",
       "      <th>Total Features</th>\n",
       "    </tr>\n",
       "  </thead>\n",
       "  <tbody>\n",
       "    <tr>\n",
       "      <th>0</th>\n",
       "      <td>1-3</td>\n",
       "      <td>0.808669</td>\n",
       "      <td>20.0</td>\n",
       "      <td>19268</td>\n",
       "    </tr>\n",
       "    <tr>\n",
       "      <th>1</th>\n",
       "      <td>1-2</td>\n",
       "      <td>0.806042</td>\n",
       "      <td>10.0</td>\n",
       "      <td>5510</td>\n",
       "    </tr>\n",
       "    <tr>\n",
       "      <th>2</th>\n",
       "      <td>1-1</td>\n",
       "      <td>0.806480</td>\n",
       "      <td>30.0</td>\n",
       "      <td>4435</td>\n",
       "    </tr>\n",
       "    <tr>\n",
       "      <th>3</th>\n",
       "      <td>1,3</td>\n",
       "      <td>0.806042</td>\n",
       "      <td>20.0</td>\n",
       "      <td>11205</td>\n",
       "    </tr>\n",
       "    <tr>\n",
       "      <th>4</th>\n",
       "      <td>2-3</td>\n",
       "      <td>0.751751</td>\n",
       "      <td>50.0</td>\n",
       "      <td>40779</td>\n",
       "    </tr>\n",
       "    <tr>\n",
       "      <th>5</th>\n",
       "      <td>3-3</td>\n",
       "      <td>0.717163</td>\n",
       "      <td>40.0</td>\n",
       "      <td>16496</td>\n",
       "    </tr>\n",
       "    <tr>\n",
       "      <th>6</th>\n",
       "      <td>2-2</td>\n",
       "      <td>0.752189</td>\n",
       "      <td>20.0</td>\n",
       "      <td>8063</td>\n",
       "    </tr>\n",
       "  </tbody>\n",
       "</table>\n",
       "</div>"
      ],
      "text/plain": [
       "  gram  accuracy  Feature Percentage  Total Features\n",
       "0  1-3  0.808669                20.0           19268\n",
       "1  1-2  0.806042                10.0            5510\n",
       "2  1-1  0.806480                30.0            4435\n",
       "3  1,3  0.806042                20.0           11205\n",
       "4  2-3  0.751751                50.0           40779\n",
       "5  3-3  0.717163                40.0           16496\n",
       "6  2-2  0.752189                20.0            8063"
      ]
     },
     "execution_count": 150,
     "metadata": {},
     "output_type": "execute_result"
    }
   ],
   "source": [
    "best_gram_comp = []\n",
    "\n",
    "def get_best_comp(plot,gram):\n",
    "    best = 0\n",
    "    percentage = 0\n",
    "    nfeatures = 0\n",
    "    for i in plot:\n",
    "        if(i[2] > best):\n",
    "            best = i[2]\n",
    "            percentage = i[0]\n",
    "            nfeatures = i[1]\n",
    "        elif(i[2] == best):\n",
    "            if(i[0] < percentage):\n",
    "                best = i[2]\n",
    "                percentage = i[0]\n",
    "                nfeatures = i[1]\n",
    "    best_gram_comp.append([gram,best,percentage,nfeatures])\n",
    "\n",
    "\n",
    "get_best_comp(svm_plot_ubtgt,\"1-3\")\n",
    "get_best_comp(svm_plot_ubgt,\"1-2\")\n",
    "get_best_comp(svm_plot_ugt,\"1-1\")\n",
    "get_best_comp(svm_plot_utgt,\"1,3\")\n",
    "get_best_comp(svm_plot_btgt,\"2-3\")\n",
    "get_best_comp(svm_plot_tgt,\"3-3\")\n",
    "get_best_comp(svm_plot_bgt,\"2-2\")\n",
    "\n",
    "pd.DataFrame(best_gram_comp,columns=[\"gram\",\"accuracy\",\"Feature Percentage\",\"Total Features\"])\n"
   ]
  },
  {
   "cell_type": "code",
   "execution_count": 9,
   "id": "02934b06",
   "metadata": {},
   "outputs": [],
   "source": [
    "vectorizer = TfidfVectorizer(ngram_range=(1,3))\n",
    "vectorizer.fit(x_train)\n",
    "total_features = len(vectorizer.get_feature_names())"
   ]
  },
  {
   "cell_type": "code",
   "execution_count": 13,
   "id": "9ebe8a90",
   "metadata": {},
   "outputs": [
    {
     "data": {
      "text/plain": [
       "SVC()"
      ]
     },
     "execution_count": 13,
     "metadata": {},
     "output_type": "execute_result"
    }
   ],
   "source": [
    "svm = SVC()\n",
    "vectorizer = TfidfVectorizer(ngram_range=(1,3),max_features = int(total_features * 0.2))\n",
    "train_vectors = vectorizer.fit_transform(x_train)\n",
    "train_dense = train_vectors.todense().tolist()\n",
    "svm.fit(train_dense,y_train)"
   ]
  },
  {
   "cell_type": "code",
   "execution_count": 15,
   "id": "74614f04",
   "metadata": {},
   "outputs": [],
   "source": [
    "validation_vectors = vectorizer.transform(x_validation)\n",
    "validation_dense = validation_vectors.todense().tolist()\n",
    "svm_predict = svm.predict(validation_dense)"
   ]
  },
  {
   "cell_type": "code",
   "execution_count": 21,
   "id": "6ae34cc3",
   "metadata": {},
   "outputs": [
    {
     "name": "stdout",
     "output_type": "stream",
     "text": [
      "              precision    recall  f1-score   support\n",
      "\n",
      "Non Disaster       0.78      0.90      0.84      1316\n",
      "    Disaster       0.83      0.66      0.74       968\n",
      "\n",
      "    accuracy                           0.80      2284\n",
      "   macro avg       0.81      0.78      0.79      2284\n",
      "weighted avg       0.80      0.80      0.80      2284\n",
      "\n"
     ]
    }
   ],
   "source": [
    "print(classification_report(y_validation,svm_predict,target_names=[\"Non Disaster\",\"Disaster\"]))\n",
    "baseline_accuracy = accuracy_score(y_validation,svm_predict)"
   ]
  },
  {
   "cell_type": "code",
   "execution_count": null,
   "id": "a0c8b50a",
   "metadata": {},
   "outputs": [],
   "source": [
    "params_svc = {'C': [0.1, 1, 10, 100, 1000], \n",
    "              'gamma': [1, 0.1, 0.01, 0.001, 0.0001],\n",
    "              'kernel': ['rbf','linear', 'ploy']}"
   ]
  }
 ],
 "metadata": {
  "kernelspec": {
   "display_name": "Python 3",
   "language": "python",
   "name": "python3"
  },
  "language_info": {
   "codemirror_mode": {
    "name": "ipython",
    "version": 3
   },
   "file_extension": ".py",
   "mimetype": "text/x-python",
   "name": "python",
   "nbconvert_exporter": "python",
   "pygments_lexer": "ipython3",
   "version": "3.8.8"
  }
 },
 "nbformat": 4,
 "nbformat_minor": 5
}
