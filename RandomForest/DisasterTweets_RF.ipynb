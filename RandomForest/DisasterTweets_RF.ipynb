{
 "cells": [
  {
   "cell_type": "code",
   "execution_count": 18,
   "id": "8c605609",
   "metadata": {},
   "outputs": [],
   "source": [
    "import pandas as pd\n",
    "import numpy as np\n",
    "import nltk\n",
    "from sklearn.metrics import classification_report\n",
    "from sklearn.metrics import confusion_matrix\n",
    "from sklearn.metrics import accuracy_score\n",
    "from sklearn import preprocessing\n",
    "from sklearn.feature_extraction.text import TfidfVectorizer\n",
    "from sklearn.feature_extraction.text import CountVectorizer\n",
    "from sklearn.feature_extraction.text import TfidfTransformer\n",
    "from nltk import word_tokenize\n",
    "from nltk.stem import WordNetLemmatizer\n",
    "from nltk.corpus import stopwords\n",
    "from nltk import everygrams\n",
    "import matplotlib.pyplot as plt\n",
    "from sklearn.model_selection import train_test_split\n",
    "from nltk.stem import PorterStemmer\n",
    "from sklearn.ensemble import RandomForestClassifier\n",
    "from sklearn.model_selection import GridSearchCV\n",
    "  \n",
    "ps = PorterStemmer()\n",
    "stop = stopwords.words('english')\n",
    "tokenizer = nltk.tokenize.WhitespaceTokenizer()\n",
    "lemmatizer = nltk.stem.WordNetLemmatizer()"
   ]
  },
  {
   "cell_type": "code",
   "execution_count": 19,
   "id": "bbf72fbf",
   "metadata": {},
   "outputs": [],
   "source": [
    "data_train = pd.read_csv(\"train.csv\",encoding='utf-8')\n",
    "data_test = pd.read_csv(\"test.csv\",encoding='utf-8')"
   ]
  },
  {
   "cell_type": "code",
   "execution_count": 20,
   "id": "cbf91b47",
   "metadata": {},
   "outputs": [],
   "source": [
    "data_train = data_train.drop(['keyword','location'],axis=1)\n",
    "data_test = data_test.drop(['keyword','location'],axis=1)"
   ]
  },
  {
   "cell_type": "code",
   "execution_count": 21,
   "id": "959e98e2",
   "metadata": {},
   "outputs": [
    {
     "name": "stderr",
     "output_type": "stream",
     "text": [
      "<ipython-input-21-5cffb75ec9ad>:2: FutureWarning: The default value of regex will change from True to False in a future version.\n",
      "  data_train['text'] = data_train['text'].str.replace(\"[^\\w\\s]\",\" \")\n",
      "<ipython-input-21-5cffb75ec9ad>:3: FutureWarning: The default value of regex will change from True to False in a future version.\n",
      "  data_train['text'] = data_train['text'].str.replace(\"[\\d+]\",\" \")\n",
      "<ipython-input-21-5cffb75ec9ad>:5: FutureWarning: The default value of regex will change from True to False in a future version. In addition, single character regular expressions will*not* be treated as literal strings when regex=True.\n",
      "  data_train['text'] = data_train['text'].str.replace(i,\" \")\n",
      "<ipython-input-21-5cffb75ec9ad>:14: FutureWarning: The default value of regex will change from True to False in a future version.\n",
      "  data_test['text'] = data_test['text'].str.replace(\"[^\\w\\s]\",\" \")\n",
      "<ipython-input-21-5cffb75ec9ad>:15: FutureWarning: The default value of regex will change from True to False in a future version.\n",
      "  data_test['text'] = data_test['text'].str.replace(\"[\\d+]\",\" \")\n",
      "<ipython-input-21-5cffb75ec9ad>:17: FutureWarning: The default value of regex will change from True to False in a future version. In addition, single character regular expressions will*not* be treated as literal strings when regex=True.\n",
      "  data_test['text'] = data_test['text'].str.replace(i,\" \")\n"
     ]
    }
   ],
   "source": [
    "data_train['text'] = data_train['text'].str.lower()\n",
    "data_train['text'] = data_train['text'].str.replace(\"[^\\w\\s]\",\" \")\n",
    "data_train['text'] = data_train['text'].str.replace(\"[\\d+]\",\" \")\n",
    "for i in list(\"!@#$%^&*()[]{};:,./<>?\\|`~-=_+\"):\n",
    "    data_train['text'] = data_train['text'].str.replace(i,\" \")    \n",
    "    \n",
    "data_train['text'] = data_train.apply(lambda row: tokenizer.tokenize(row['text']), axis=1)\n",
    "data_train[\"text\"] = data_train['text'].apply(lambda row : [i for i in row if i not in stop] )\n",
    "data_train[\"text\"] = data_train['text'].apply(lambda row : [lemmatizer.lemmatize(i) for i in row ] )\n",
    "data_train[\"text\"] = data_train['text'].apply(lambda row : [ps.stem(i) for i in row ] )\n",
    "data_train[\"text\"] = data_train['text'].apply(lambda row : \" \".join(row))\n",
    "\n",
    "data_test['text'] = data_test['text'].str.lower()\n",
    "data_test['text'] = data_test['text'].str.replace(\"[^\\w\\s]\",\" \")\n",
    "data_test['text'] = data_test['text'].str.replace(\"[\\d+]\",\" \")\n",
    "for i in list(\"!@#$%^&*()[]{};:,./<>?\\|`~-=_+\"):\n",
    "    data_test['text'] = data_test['text'].str.replace(i,\" \")    \n",
    "    \n",
    "data_test['text'] = data_test.apply(lambda row: tokenizer.tokenize(row['text']), axis=1)\n",
    "data_test[\"text\"] = data_test['text'].apply(lambda row : [i for i in row if i not in stop] )\n",
    "data_test[\"text\"] = data_test['text'].apply(lambda row : [lemmatizer.lemmatize(i) for i in row ] )\n",
    "data_test[\"text\"] = data_test['text'].apply(lambda row : [ps.stem(i) for i in row ] )\n",
    "data_test[\"text\"] = data_test['text'].apply(lambda row : \" \".join(row))"
   ]
  },
  {
   "cell_type": "code",
   "execution_count": 22,
   "id": "7e3b5713",
   "metadata": {},
   "outputs": [],
   "source": [
    "x_train,x_validation,y_train,y_validation = train_test_split(data_train['text'],data_train['target'],test_size=0.3)"
   ]
  },
  {
   "cell_type": "code",
   "execution_count": 23,
   "id": "b74dcf54",
   "metadata": {},
   "outputs": [],
   "source": [
    "from sklearn.pipeline import Pipeline\n",
    "def accuracy_result(used_model,n_gram_range = (1,3)):\n",
    "    print(\"({}-{})\".format(n_gram_range[0],n_gram_range[1]))\n",
    "    res = []\n",
    "    vectorizer = TfidfVectorizer(ngram_range=n_gram_range)\n",
    "    \n",
    "    vectorizer.fit(x_train)\n",
    "    total_features = len(vectorizer.get_feature_names())\n",
    "    max_f = np.arange(0.1,1.01,0.1)\n",
    "    \n",
    "    for n in max_f:\n",
    "#         vectorizer.set_params(ngram_range=n_gram_range,max_features = int(n * total_features))\n",
    "        checker_pipeline = Pipeline([\n",
    "            ('vectorizer', TfidfVectorizer(ngram_range=n_gram_range,max_features = int(n * total_features))),\n",
    "            ('classifier', used_model)\n",
    "        ])\n",
    "        model = checker_pipeline.fit(x_train,y_train)\n",
    "        \n",
    "        Y_pred = model.predict(x_validation)\n",
    "        print(accuracy_score(y_validation, Y_pred))\n",
    "        res.append((n*100,int(n * total_features),accuracy_score(y_validation, Y_pred)))\n",
    "    return(res)\n",
    "def unitrigram_accuracy_result(used_model):\n",
    "    print(\"(1,3)\")\n",
    "    res = []\n",
    "    check_vectorizer = CountVectorizer(ngram_range=(1,3)).fit(x_train)\n",
    "    check2_vectorizer = CountVectorizer(ngram_range=(2,2)).fit(x_train)\n",
    "\n",
    "    total_features = len(check_vectorizer.get_feature_names()) - len(check2_vectorizer.get_feature_names())\n",
    "    max_f = np.arange(0.1,1.01,0.1)\n",
    "    \n",
    "    for n in max_f:\n",
    "        tfidf_vectorizer = CountVectorizer(ngram_range=(1,3),max_features = int(n * total_features))\n",
    "    #     tfidf_vectorizer_2 = CountVectorizer(ngram_range=(2,2))\n",
    "\n",
    "        a = tfidf_vectorizer.fit_transform(x_train)\n",
    "        b =  a.todense().tolist()\n",
    "        c = pd.DataFrame(b,columns=tfidf_vectorizer.get_feature_names())\n",
    "#         print(len(c.columns))\n",
    "        selected_train_column = [sel_c for sel_c in c.columns if len(sel_c.split())!=2]\n",
    "        c = c[selected_train_column]\n",
    "#         print(len(c.columns))\n",
    "\n",
    "        a2 = tfidf_vectorizer.transform(x_validation)\n",
    "        b2 =  a2.todense().tolist()\n",
    "        c2 = pd.DataFrame(b2,columns=tfidf_vectorizer.get_feature_names())\n",
    "#         print(len(c2.columns))\n",
    "        selected_validation_column = [sel_c for sel_c in c2.columns if len(sel_c.split())!=2]\n",
    "        c2 = c2[selected_validation_column]\n",
    "#         print(len(c2.columns))\n",
    "\n",
    "        tfidf_transformer=TfidfTransformer(smooth_idf=True,use_idf=True) \n",
    "        m_train = tfidf_transformer.fit_transform(c)\n",
    "        v_train =  m_train.todense().tolist()\n",
    "\n",
    "        m_validation = tfidf_transformer.transform(c2)\n",
    "        v_validation =  m_validation.todense().tolist()\n",
    "        model = used_model.fit(v_train,y_train)\n",
    "        \n",
    "        Y_pred = model.predict(v_validation)\n",
    "        print(accuracy_score(y_validation, Y_pred))\n",
    "        res.append((n*100,int(n * total_features),accuracy_score(y_validation, Y_pred)))\n",
    "    return(res)\n"
   ]
  },
  {
   "cell_type": "code",
   "execution_count": 25,
   "id": "e5b12c0c",
   "metadata": {},
   "outputs": [
    {
     "name": "stdout",
     "output_type": "stream",
     "text": [
      "(1-3)\n",
      "0.7762697022767076\n",
      "0.7661996497373029\n",
      "0.7749562171628721\n",
      "0.7780210157618214\n",
      "0.7692644483362522\n",
      "0.7727670753064798\n",
      "0.7666374781085814\n",
      "0.760507880910683\n",
      "0.7705779334500875\n",
      "0.7661996497373029\n",
      "(1-2)\n",
      "0.7762697022767076\n",
      "0.7723292469352014\n",
      "0.771015761821366\n",
      "0.7723292469352014\n",
      "0.771891418563923\n",
      "0.7762697022767076\n",
      "0.7802101576182137\n",
      "0.7832749562171629\n",
      "0.7679509632224168\n",
      "0.7749562171628721\n",
      "(1-1)\n",
      "0.7793345008756567\n",
      "0.7788966725043783\n",
      "0.7780210157618214\n",
      "0.7859019264448336\n",
      "0.7845884413309983\n",
      "0.7898423817863398\n",
      "0.7845884413309983\n",
      "0.7771453590192644\n",
      "0.7828371278458844\n",
      "0.7880910683012259\n",
      "(1,3)\n",
      "0.7793345008756567\n",
      "0.7793345008756567\n",
      "0.7793345008756567\n",
      "0.7775831873905429\n",
      "0.7740805604203153\n",
      "0.7762697022767076\n",
      "0.7793345008756567\n",
      "0.7753940455341506\n",
      "0.7740805604203153\n",
      "0.7762697022767076\n",
      "(2-3)\n",
      "0.723292469352014\n",
      "0.7193520140105079\n",
      "0.7110332749562172\n",
      "0.7092819614711033\n",
      "0.707968476357268\n",
      "0.7027145359019265\n",
      "0.7040280210157618\n",
      "0.6970227670753065\n",
      "0.6952714535901926\n",
      "0.691768826619965\n",
      "(3-3)\n",
      "0.6935201401050788\n",
      "0.6904553415061296\n",
      "0.6922066549912435\n",
      "0.6887040280210157\n",
      "0.6930823117338003\n",
      "0.6873905429071804\n",
      "0.6825744308231173\n",
      "0.6799474605954466\n",
      "0.6808231173380035\n",
      "0.6795096322241682\n",
      "(2-2)\n",
      "0.7285464098073555\n",
      "0.723292469352014\n",
      "0.7132224168126094\n",
      "0.7075306479859895\n",
      "0.7101576182136602\n",
      "0.707092819614711\n",
      "0.7057793345008757\n",
      "0.702276707530648\n",
      "0.7018388791593695\n",
      "0.7009632224168126\n"
     ]
    }
   ],
   "source": [
    "\n",
    "rf = RandomForestClassifier()\n",
    "\n",
    "rf_plot_ubtgt = accuracy_result(rf,(1,3))\n",
    "rf_plot_ubgt = accuracy_result(rf,(1,2))\n",
    "rf_plot_ugt = accuracy_result(rf,(1,1))\n",
    "rf_plot_utgt = unitrigram_accuracy_result(rf)\n",
    "rf_plot_btgt = accuracy_result(rf,(2,3))\n",
    "rf_plot_tgt = accuracy_result(rf,(3,3))\n",
    "rf_plot_bgt = accuracy_result(rf,(2,2))"
   ]
  },
  {
   "cell_type": "code",
   "execution_count": 27,
   "id": "bd12a6cc",
   "metadata": {},
   "outputs": [
    {
     "data": {
      "text/plain": [
       "<matplotlib.legend.Legend at 0x1cf34488f10>"
      ]
     },
     "execution_count": 27,
     "metadata": {},
     "output_type": "execute_result"
    },
    {
     "data": {
      "image/png": "[encoded data removed]",
      "text/plain": [
       "<Figure size 576x432 with 1 Axes>"
      ]
     },
     "metadata": {
      "needs_background": "light"
     },
     "output_type": "display_data"
    }
   ],
   "source": [
    "rf_nfeatures_plot_ugt = pd.DataFrame(rf_plot_ugt,columns=['data_percentage','nfeatures','validation_accuracy'])\n",
    "rf_nfeatures_plot_bgt = pd.DataFrame(rf_plot_bgt,columns=['data_percentage','nfeatures','validation_accuracy'])\n",
    "rf_nfeatures_plot_tgt = pd.DataFrame(rf_plot_tgt,columns=['data_percentage','nfeatures','validation_accuracy'])\n",
    "rf_nfeatures_plot_ubtgt = pd.DataFrame(rf_plot_ubtgt,columns=['data_percentage','nfeatures','validation_accuracy'])\n",
    "rf_nfeatures_plot_utgt = pd.DataFrame(rf_plot_utgt,columns=['data_percentage','nfeatures','validation_accuracy'])\n",
    "rf_nfeatures_plot_ubgt = pd.DataFrame(rf_plot_ubgt,columns=['data_percentage','nfeatures','validation_accuracy'])\n",
    "rf_nfeatures_plot_btgt = pd.DataFrame(rf_plot_btgt,columns=['data_percentage','nfeatures','validation_accuracy'])\n",
    "plt.figure(figsize=(8,6))\n",
    "plt.plot(rf_nfeatures_plot_ugt.data_percentage, rf_nfeatures_plot_ugt.validation_accuracy, label='unigram',color='gold')\n",
    "plt.plot(rf_nfeatures_plot_bgt.data_percentage, rf_nfeatures_plot_bgt.validation_accuracy, label='bigram',color='green')\n",
    "plt.plot(rf_nfeatures_plot_tgt.data_percentage, rf_nfeatures_plot_tgt.validation_accuracy, label='trigram',color='red')\n",
    "plt.plot(rf_nfeatures_plot_utgt.data_percentage, rf_nfeatures_plot_utgt.validation_accuracy, label='unitrigram',color='black')\n",
    "plt.plot(rf_nfeatures_plot_ubtgt.data_percentage, rf_nfeatures_plot_ubtgt.validation_accuracy, label='unibitrigram',color='cyan')\n",
    "plt.plot(rf_nfeatures_plot_ubgt.data_percentage, rf_nfeatures_plot_ubgt.validation_accuracy, label='unibigram',color='hotpink')\n",
    "plt.plot(rf_nfeatures_plot_btgt.data_percentage, rf_nfeatures_plot_btgt.validation_accuracy, label='bitrigram',color='slategray')\n",
    "plt.title(\"rf N-gram(1~3) test result : Accuracy\")\n",
    "plt.xlabel(\"Percentage of Features\")\n",
    "plt.ylabel(\"Validation set accuracy\")\n",
    "plt.legend()"
   ]
  },
  {
   "cell_type": "code",
   "execution_count": 28,
   "id": "49026100",
   "metadata": {},
   "outputs": [
    {
     "data": {
      "text/html": [
       "<div>\n",
       "<style scoped>\n",
       "    .dataframe tbody tr th:only-of-type {\n",
       "        vertical-align: middle;\n",
       "    }\n",
       "\n",
       "    .dataframe tbody tr th {\n",
       "        vertical-align: top;\n",
       "    }\n",
       "\n",
       "    .dataframe thead th {\n",
       "        text-align: right;\n",
       "    }\n",
       "</style>\n",
       "<table border=\"1\" class=\"dataframe\">\n",
       "  <thead>\n",
       "    <tr style=\"text-align: right;\">\n",
       "      <th></th>\n",
       "      <th>gram</th>\n",
       "      <th>accuracy</th>\n",
       "      <th>Feature Percentage</th>\n",
       "      <th>Total Features</th>\n",
       "    </tr>\n",
       "  </thead>\n",
       "  <tbody>\n",
       "    <tr>\n",
       "      <th>0</th>\n",
       "      <td>1-3</td>\n",
       "      <td>0.778021</td>\n",
       "      <td>40.0</td>\n",
       "      <td>38390</td>\n",
       "    </tr>\n",
       "    <tr>\n",
       "      <th>1</th>\n",
       "      <td>1-2</td>\n",
       "      <td>0.783275</td>\n",
       "      <td>80.0</td>\n",
       "      <td>43934</td>\n",
       "    </tr>\n",
       "    <tr>\n",
       "      <th>2</th>\n",
       "      <td>1-1</td>\n",
       "      <td>0.789842</td>\n",
       "      <td>60.0</td>\n",
       "      <td>8827</td>\n",
       "    </tr>\n",
       "    <tr>\n",
       "      <th>3</th>\n",
       "      <td>1,3</td>\n",
       "      <td>0.779335</td>\n",
       "      <td>10.0</td>\n",
       "      <td>5577</td>\n",
       "    </tr>\n",
       "    <tr>\n",
       "      <th>4</th>\n",
       "      <td>2-3</td>\n",
       "      <td>0.723292</td>\n",
       "      <td>10.0</td>\n",
       "      <td>8126</td>\n",
       "    </tr>\n",
       "    <tr>\n",
       "      <th>5</th>\n",
       "      <td>3-3</td>\n",
       "      <td>0.693520</td>\n",
       "      <td>10.0</td>\n",
       "      <td>4105</td>\n",
       "    </tr>\n",
       "    <tr>\n",
       "      <th>6</th>\n",
       "      <td>2-2</td>\n",
       "      <td>0.728546</td>\n",
       "      <td>10.0</td>\n",
       "      <td>4020</td>\n",
       "    </tr>\n",
       "  </tbody>\n",
       "</table>\n",
       "</div>"
      ],
      "text/plain": [
       "  gram  accuracy  Feature Percentage  Total Features\n",
       "0  1-3  0.778021                40.0           38390\n",
       "1  1-2  0.783275                80.0           43934\n",
       "2  1-1  0.789842                60.0            8827\n",
       "3  1,3  0.779335                10.0            5577\n",
       "4  2-3  0.723292                10.0            8126\n",
       "5  3-3  0.693520                10.0            4105\n",
       "6  2-2  0.728546                10.0            4020"
      ]
     },
     "execution_count": 28,
     "metadata": {},
     "output_type": "execute_result"
    }
   ],
   "source": [
    "best_gram_comp = []\n",
    "\n",
    "def get_best_comp(plot,gram):\n",
    "    best = 0\n",
    "    percentage = 0\n",
    "    nfeatures = 0\n",
    "    for i in plot:\n",
    "        if(i[2] > best):\n",
    "            best = i[2]\n",
    "            percentage = i[0]\n",
    "            nfeatures = i[1]\n",
    "        elif(i[2] == best):\n",
    "            if(i[0] < percentage):\n",
    "                best = i[2]\n",
    "                percentage = i[0]\n",
    "                nfeatures = i[1]\n",
    "    best_gram_comp.append([gram,best,percentage,nfeatures])\n",
    "\n",
    "\n",
    "get_best_comp(rf_plot_ubtgt,\"1-3\")\n",
    "get_best_comp(rf_plot_ubgt,\"1-2\")\n",
    "get_best_comp(rf_plot_ugt,\"1-1\")\n",
    "get_best_comp(rf_plot_utgt,\"1,3\")\n",
    "get_best_comp(rf_plot_btgt,\"2-3\")\n",
    "get_best_comp(rf_plot_tgt,\"3-3\")\n",
    "get_best_comp(rf_plot_bgt,\"2-2\")\n",
    "\n",
    "pd.DataFrame(best_gram_comp,columns=[\"gram\",\"accuracy\",\"Feature Percentage\",\"Total Features\"])\n"
   ]
  },
  {
   "cell_type": "code",
   "execution_count": 29,
   "id": "02934b06",
   "metadata": {},
   "outputs": [],
   "source": [
    "vectorizer = TfidfVectorizer(ngram_range=(1,3))\n",
    "vectorizer.fit(x_train)\n",
    "total_features = len(vectorizer.get_feature_names())"
   ]
  },
  {
   "cell_type": "code",
   "execution_count": 30,
   "id": "aa421f38",
   "metadata": {},
   "outputs": [
    {
     "data": {
      "text/plain": [
       "RandomForestClassifier()"
      ]
     },
     "execution_count": 30,
     "metadata": {},
     "output_type": "execute_result"
    }
   ],
   "source": [
    "rf = RandomForestClassifier()\n",
    "vectorizer = TfidfVectorizer(ngram_range=(1,3),max_features = int(total_features * 0.6))\n",
    "train_vectors = vectorizer.fit_transform(x_train)\n",
    "train_dense = train_vectors.todense().tolist()\n",
    "rf.fit(train_dense,y_train)"
   ]
  },
  {
   "cell_type": "code",
   "execution_count": 31,
   "id": "8076f87a",
   "metadata": {},
   "outputs": [],
   "source": [
    "validation_vectors = vectorizer.transform(x_validation)\n",
    "validation_dense = validation_vectors.todense().tolist()\n",
    "rf_predict = rf.predict(validation_dense)"
   ]
  },
  {
   "cell_type": "code",
   "execution_count": 34,
   "id": "ee059ca4",
   "metadata": {},
   "outputs": [
    {
     "name": "stdout",
     "output_type": "stream",
     "text": [
      "              precision    recall  f1-score   support\n",
      "\n",
      "Non Disaster       0.72      0.95      0.81      1273\n",
      "    Disaster       0.88      0.53      0.66      1011\n",
      "\n",
      "    accuracy                           0.76      2284\n",
      "   macro avg       0.80      0.74      0.74      2284\n",
      "weighted avg       0.79      0.76      0.75      2284\n",
      "\n"
     ]
    }
   ],
   "source": [
    "print(classification_report(y_validation,rf_predict,target_names=[\"Non Disaster\",\"Disaster\"]))\n",
    "baseline_accuracy = accuracy_score(y_validation,rf_predict)"
   ]
  },
  {
   "cell_type": "code",
   "execution_count": 37,
   "id": "99578bfc",
   "metadata": {},
   "outputs": [],
   "source": [
    "test_vectors = vectorizer.transform(data_test[\"text\"])\n",
    "test_dense = test_vectors.todense().tolist()\n"
   ]
  },
  {
   "cell_type": "code",
   "execution_count": 38,
   "id": "be8ba27d",
   "metadata": {},
   "outputs": [],
   "source": [
    "rf_test_predict = rf.predict(test_dense)"
   ]
  },
  {
   "cell_type": "code",
   "execution_count": 56,
   "id": "f2589c23",
   "metadata": {},
   "outputs": [],
   "source": [
    "d = {'id': data_test['id'], 'target': rf_test_predict}\n",
    "pd.DataFrame(data = d).to_csv(\"rf_baseline_predict.csv\",index=False)"
   ]
  }
 ],
 "metadata": {
  "kernelspec": {
   "display_name": "Python 3",
   "language": "python",
   "name": "python3"
  },
  "language_info": {
   "codemirror_mode": {
    "name": "ipython",
    "version": 3
   },
   "file_extension": ".py",
   "mimetype": "text/x-python",
   "name": "python",
   "nbconvert_exporter": "python",
   "pygments_lexer": "ipython3",
   "version": "3.8.8"
  }
 },
 "nbformat": 4,
 "nbformat_minor": 5
}
